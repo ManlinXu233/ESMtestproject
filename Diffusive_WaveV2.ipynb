{
 "cells": [
  {
   "cell_type": "code",
   "execution_count": null,
   "metadata": {},
   "outputs": [],
   "source": [
    "# import libraries\n",
    "from scipy import stats\n",
    "import numpy as np\n",
    "import matplotlib.pyplot as plt\n",
    "import math\n",
    "import pandas as pd\n",
    "from scipy.sparse import dia_matrix\n",
    "#from sympy import *"
   ]
  },
  {
   "cell_type": "code",
   "execution_count": null,
   "metadata": {},
   "outputs": [],
   "source": [
    "# set parameters & initialize grids (reach 1 chosen)\n",
    "s0 = 0.0005\n",
    "L = 74000 #m\n",
    "width = 100 #m\n",
    "t_tot = 36*60*60 #36 hrs\n",
    "\n",
    "# initialize grids\n",
    "dx = 250 #m\n",
    "dt = 60 #s\n",
    "\n",
    "# total time step and grid points we're running\n",
    "m = int(L/dx) # number of spatial points, m\n",
    "n = int(t_tot/dt) # number of time steps, n\n",
    "\n",
    "# diffusivity coef\n",
    "D = 2325 #m^2/s\n",
    "# celerity\n",
    "Ce = 1.19 #m/s\n",
    "\n",
    "# Ca\n",
    "Ca = Ce*(dt/dx)\n",
    "# Cd\n",
    "Cd = D*(dt/(dx**2))"
   ]
  },
  {
   "cell_type": "code",
   "execution_count": null,
   "metadata": {},
   "outputs": [],
   "source": [
    "# pre-allocate vectors \n",
    "Qi_k = np.zeros([m,1]) # all spatial solutions at time k (starting from initial)\n",
    "\n",
    "Qall = np.zeros([m,n]) # collection of Q vectors, compilation of solutions at all timesteps\n",
    "\n",
    "Ls = np.linspace(0,L,m) \n",
    "ts = np.linspace(0,t_tot,n) \n",
    "\n",
    "# print(Ls)\n",
    "# print(ts)"
   ]
  },
  {
   "cell_type": "code",
   "execution_count": null,
   "metadata": {},
   "outputs": [],
   "source": [
    "# Account for boundary conditions?\n",
    "Qi_k[0] = Q*(Ca/4 - Cd/2) + Q*(1+Cd) - Q(Ca/4 + Cd/2)\n",
    "\n",
    "Qall[:,0] = Qi_k.transpose()"
   ]
  },
  {
   "cell_type": "code",
   "execution_count": null,
   "metadata": {},
   "outputs": [],
   "source": [
    "# Create diffusion evolution matrix\n",
    "# M1, M2\n",
    "# approach: make a sparse matrix with diagonal elements\n",
    "M1 = dia_matrix((m,m),dtype=np.double).toarray()\n",
    "M2 = dia_matrix((m,m),dtype=np.double).toarray()\n",
    "\n",
    "# 1.populate M1\n",
    "# we want 1+Cd on the diagonal, (Ca/4 - Cd/2) along right subdiagonal, & -(Ca/4 + Cd/2) along left subdiagonal\n",
    "for i in np.arange(0,m):\n",
    "    for j in np.arange(0,m):\n",
    "        if i==j: # we're on the diagonal\n",
    "            M1[i,j] = 1+Cd\n",
    "        elif i-1==j: # we're on the left sub-diagonal\n",
    "            M1[i,j] = Ca/4 - Cd/2\n",
    "        elif i+1==j: # we're on the right sub-diagonal\n",
    "            M1[i,j] = -(Ca/4 + Cd/2)\n",
    "print(M1)\n",
    "\n",
    "# 2.populate M2\n",
    "# we want 1-Cd on the diagonal, -(Ca/4 - Cd/2) along right subdiagonal, & (Ca/4 + Cd/2) along left subdiagonal\n",
    "for i in np.arange(0,m):\n",
    "    for j in np.arange(0,m):\n",
    "        if i==j: # we're on the diagonal\n",
    "            M2[i,j] = 1-Cd\n",
    "        elif i-1==j: # we're on the left sub-diagonal\n",
    "            M2[i,j] = -(Ca/4 - Cd/2)\n",
    "        elif i+1==j: # we're on the right sub-diagonal\n",
    "            M2[i,j] = (Ca/4 + Cd/2)\n",
    "print(M2)"
   ]
  },
  {
   "cell_type": "code",
   "execution_count": null,
   "metadata": {},
   "outputs": [],
   "source": [
    "# run model loop\n",
    "# update Qi_k at each time step\n",
    "\n",
    "for t in np.arange(0,n): # for every index going from 0 to the total number of timesteps\n",
    "    time = ts[t] # time is the corrsponding element in the ts vector\n",
    "    # surface t\n",
    "    Qi_k[0] = Q*(Ca/4 - Cd/2) + Q*(1+Cd) - Q(Ca/4 + Cd/2)\n",
    "    # deepest t\n",
    "    \n",
    "    #Qi_k[?] = ??\n",
    "    \n",
    "    # run matrix solve\n",
    "    M1_inv = np.linalg.inv(M1)\n",
    "    Qnew_pre = np.matmul(M1_inv,M2)\n",
    "    Qnew = np.matmul(Qnew_pre,Qi_k)\n",
    "    \n",
    "    #Qnew[?]=??\n",
    "    Qall[:,t] = Qnew.transpose()\n",
    "    Qi_k = Qnew\n",
    "    #print(Qi_k)"
   ]
  }
 ],
 "metadata": {
  "kernelspec": {
   "display_name": "Python 3",
   "language": "python",
   "name": "python3"
  },
  "language_info": {
   "codemirror_mode": {
    "name": "ipython",
    "version": 3
   },
   "file_extension": ".py",
   "mimetype": "text/x-python",
   "name": "python",
   "nbconvert_exporter": "python",
   "pygments_lexer": "ipython3",
   "version": "3.6.8"
  }
 },
 "nbformat": 4,
 "nbformat_minor": 4
}
